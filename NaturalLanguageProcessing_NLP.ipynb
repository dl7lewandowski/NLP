{
 "cells": [
  {
   "cell_type": "markdown",
   "id": "03ceb0a5",
   "metadata": {},
   "source": [
    "# NLP \n",
    "- analiza jezykow uzywanych przez ludzi\n",
    "\n",
    "Definujemy modele ktore moga zrozumiec dany jezyk, sklasyfikowac tresc, wygenerowac utowry. \n"
   ]
  },
  {
   "cell_type": "markdown",
   "id": "44615c77",
   "metadata": {},
   "source": [
    "Anagram slowa romantyk to markotny. W Kodzie ASCII reprezentuje te slowa te same liczby. Co utrudnia zdudowanie modelu rozumienia tekstu.\\\n",
    "Rozwiazeniem tego problemy jest zakodowanie calych slow zamiast zawartych w nich liter. Romatyk to liczba x, markotyny to y.\n"
   ]
  },
  {
   "cell_type": "markdown",
   "id": "a4f634c7",
   "metadata": {},
   "source": [
    "Tokenizacja: 'Bardzo lubie jesc makaron' mozemy zakodowac za pomoca [1,2,3,4], natmoiast zdanie 'Bardzo lubie jesc pizze' mozemy zakodowac [1,2,3,5], mozemy stwierdzic ze zdania maja podobne znaczenie ze wzgledu ze ciagi sa podobne."
   ]
  },
  {
   "cell_type": "code",
   "execution_count": 1,
   "id": "c5896765",
   "metadata": {},
   "outputs": [],
   "source": [
    "import tensorflow as tf\n",
    "from tensorflow import keras \n",
    "from tensorflow.keras.preprocessing.text import Tokenizer"
   ]
  },
  {
   "cell_type": "code",
   "execution_count": 4,
   "id": "935b7c14",
   "metadata": {},
   "outputs": [
    {
     "name": "stdout",
     "output_type": "stream",
     "text": [
      "{'today': 1, 'is': 2, 'a': 3, 'day': 4, 'sunny': 5, 'ruiny': 6}\n"
     ]
    }
   ],
   "source": [
    "sentences = ['Today is a sunny day',\n",
    "            'Today is a ruiny day',\n",
    "            'Is today a sunny day?']\n",
    "\n",
    "tokenizer = Tokenizer(num_words=100)  \n",
    "tokenizer.fit_on_texts(sentences) # tokazynacja zdan \n",
    "print(tokenizer.word_index) "
   ]
  },
  {
   "cell_type": "markdown",
   "id": "667ec394",
   "metadata": {},
   "source": [
    "# Zamiana zdan na sekwencje "
   ]
  },
  {
   "cell_type": "code",
   "execution_count": 5,
   "id": "05e21feb",
   "metadata": {},
   "outputs": [
    {
     "name": "stdout",
     "output_type": "stream",
     "text": [
      "[[1, 2, 3, 5, 4], [1, 2, 3, 6, 4], [2, 1, 3, 5, 4]]\n"
     ]
    }
   ],
   "source": [
    "sequences = tokenizer.texts_to_sequences(sentences)\n",
    "print(sequences) "
   ]
  },
  {
   "cell_type": "markdown",
   "id": "8613e7d0",
   "metadata": {},
   "source": [
    "# Token typu OOV out of vocabulary "
   ]
  },
  {
   "cell_type": "code",
   "execution_count": 6,
   "id": "81e381ca",
   "metadata": {},
   "outputs": [
    {
     "name": "stdout",
     "output_type": "stream",
     "text": [
      "{'today': 1, 'is': 2, 'a': 3, 'day': 4, 'sunny': 5, 'ruiny': 6}\n",
      "[[1, 2, 3, 4], [3, 4]]\n"
     ]
    }
   ],
   "source": [
    "test_data = ['Today is a snowing day',\n",
    "            'Will it be a rainy day tommorow?']\n",
    "\n",
    "test_sequences = tokenizer.texts_to_sequences(test_data)\n",
    "print(tokenizer.word_index)\n",
    "print(test_sequences) "
   ]
  },
  {
   "cell_type": "markdown",
   "id": "8c0a3f17",
   "metadata": {},
   "source": [
    "W powyzszym przykladznie widac ze stracilismy kontekst i znaczenie zdan. \n",
    "W takim przypadku moze pomoc wykorzystanie tokenu 'oov\" "
   ]
  },
  {
   "cell_type": "code",
   "execution_count": 9,
   "id": "3f56996b",
   "metadata": {},
   "outputs": [
    {
     "name": "stdout",
     "output_type": "stream",
     "text": [
      "{'<OOV>': 1, 'today': 2, 'is': 3, 'a': 4, 'day': 5, 'sunny': 6, 'ruiny': 7}\n",
      "[[2, 3, 4, 1, 5], [1, 1, 1, 4, 1, 5, 1]]\n"
     ]
    }
   ],
   "source": [
    "tokenizer = Tokenizer(num_words=100, oov_token='<OOV>')\n",
    "tokenizer.fit_on_texts(sentences)\n",
    "sequences = tokenizer.texts_to_sequences(sentences)\n",
    "\n",
    "test_sequences = tokenizer.texts_to_sequences(test_data)\n",
    "print(tokenizer.word_index)\n",
    "print(test_sequences)\n",
    "\n"
   ]
  },
  {
   "cell_type": "markdown",
   "id": "08f50557",
   "metadata": {},
   "source": [
    "# Dopelnienie\n",
    "\n",
    "W celu uzykania tego samego rozmiaru i ksztaltu danych stosujemy operacje dopelnienia.\n",
    "\n",
    "- prepadding (dopelnienie z przodu)\n"
   ]
  },
  {
   "cell_type": "code",
   "execution_count": 20,
   "id": "af4015cc",
   "metadata": {},
   "outputs": [
    {
     "name": "stdout",
     "output_type": "stream",
     "text": [
      "[[ 0  0  2  3  4  6  5]\n",
      " [ 0  0  2  3  4  7  5]\n",
      " [ 0  0  3  2  4  6  5]\n",
      " [ 8  9 10  2  3 11 12]]\n"
     ]
    }
   ],
   "source": [
    "sentences = ['Today is a sunny day',\n",
    "           'Today is a rainy day',\n",
    "           'Is today a sunny day?',\n",
    "           'I really like today is snow walk']\n",
    "\n",
    "from tensorflow.keras.preprocessing.sequence import pad_sequences # konwertuje listy na te sama dlugosc \n",
    "tokenizer = Tokenizer(num_words=100, oov_token='<OOV>')\n",
    "tokenizer.fit_on_texts(sentences)\n",
    "\n",
    "sequences = tokenizer.texts_to_sequences(sentences)\n",
    "padded = pad_sequences(sequences)\n",
    "print(padded)"
   ]
  },
  {
   "cell_type": "code",
   "execution_count": 22,
   "id": "b2a1af1e",
   "metadata": {},
   "outputs": [
    {
     "name": "stdout",
     "output_type": "stream",
     "text": [
      "[[ 2  3  4  6  5  0  0]\n",
      " [ 2  3  4  7  5  0  0]\n",
      " [ 3  2  4  6  5  0  0]\n",
      " [ 8  9 10  2  3 11 12]]\n"
     ]
    }
   ],
   "source": [
    "padded = pad_sequences(sequences, padding='post')\n",
    "print(padded)"
   ]
  },
  {
   "cell_type": "code",
   "execution_count": 23,
   "id": "95bb8aa7",
   "metadata": {},
   "outputs": [
    {
     "name": "stdout",
     "output_type": "stream",
     "text": [
      "[[ 2  3  4  6  5  0]\n",
      " [ 2  3  4  7  5  0]\n",
      " [ 3  2  4  6  5  0]\n",
      " [ 9 10  2  3 11 12]]\n"
     ]
    }
   ],
   "source": [
    "padded = pad_sequences(sequences, padding='post', maxlen=6)\n",
    "print(padded)"
   ]
  },
  {
   "cell_type": "code",
   "execution_count": 24,
   "id": "45d34316",
   "metadata": {},
   "outputs": [
    {
     "name": "stdout",
     "output_type": "stream",
     "text": [
      "[[ 2  3  4  6  5  0]\n",
      " [ 2  3  4  7  5  0]\n",
      " [ 3  2  4  6  5  0]\n",
      " [ 8  9 10  2  3 11]]\n"
     ]
    }
   ],
   "source": [
    "padded = pad_sequences(sequences, padding='post', maxlen=6, truncating='post')\n",
    "print(padded)"
   ]
  },
  {
   "cell_type": "markdown",
   "id": "004a66fd",
   "metadata": {},
   "source": [
    "# Slowa nieinformatywne, porzadkowanie tekstu\n",
    "- slowa nieinformatywane (stopwords): the, and, but, znaczniki HTML, znaki interpunkcyjne, nazwy."
   ]
  },
  {
   "cell_type": "code",
   "execution_count": 36,
   "id": "d000cb37",
   "metadata": {},
   "outputs": [
    {
     "name": "stdout",
     "output_type": "stream",
     "text": [
      "\n",
      "\n",
      "Dokument\n",
      "\n",
      "\n",
      "Przykład\n",
      "\n",
      "    Wikipedia: kliknij. tutaj.!\n",
      "\n",
      "\n",
      "Ja mam, ty masz, my mamy, duzo pomyslow w glowie.\n"
     ]
    }
   ],
   "source": [
    "# usuniecie znacznikow \n",
    "\n",
    "sentence = '''<html style=\"font-family: Segoe UI;\">\n",
    "<head>\n",
    "    <title>Dokument</title>\n",
    "</head>\n",
    "<body>\n",
    "    <h1>Przykład</h1>\n",
    "    <hr size=\"1\" width=\"96%\" align=\"center\">\n",
    "    Wikipedia: <a href=https://www.pl.wikipedia.org>kliknij. tutaj.!</a>\n",
    "</body>\n",
    "</html>\n",
    "Ja mam, ty masz, my mamy, duzo pomyslow w glowie.'''\n",
    "\n",
    "from bs4 import BeautifulSoup\n",
    "soup = BeautifulSoup(sentence)\n",
    "sentence = soup.get_text()\n",
    "print(sentence)"
   ]
  },
  {
   "cell_type": "code",
   "execution_count": 38,
   "id": "5758e937",
   "metadata": {},
   "outputs": [
    {
     "name": "stdout",
     "output_type": "stream",
     "text": [
      "['Dokument Przykład Wikipedia: kliknij. tutaj.! Ja mam, masz, mamy, duzo pomyslow glowie. ']\n"
     ]
    }
   ],
   "source": [
    "# slowa nieinformatywae (stopwords)\n",
    "stopwords = ['i', 'ja', 'ty', 'my', 'o', 'w', 'przy']\n",
    "\n",
    "words = sentence.split()\n",
    "filtered_sentence = ''\n",
    "sentences = []\n",
    "for word in words:\n",
    "    if word not in stopwords:\n",
    "        filtered_sentence = filtered_sentence + word + ' '\n",
    "        \n",
    "sentences.append(filtered_sentence)\n",
    "print(sentences)"
   ]
  },
  {
   "cell_type": "code",
   "execution_count": 39,
   "id": "1a17d3f9",
   "metadata": {},
   "outputs": [
    {
     "name": "stdout",
     "output_type": "stream",
     "text": [
      "['Dokument Przykład Wikipedia kliknij tutaj Ja mam masz mamy duzo pomyslow glowie ']\n"
     ]
    }
   ],
   "source": [
    "# znaki interpunkcyjne \n",
    "import string \n",
    "table = str.maketrans('', '', string.punctuation)\n",
    "\n",
    "words = sentence.split()\n",
    "filtered_sentence = ''\n",
    "sentences = []\n",
    "for word in words:\n",
    "    word = word.translate(table)\n",
    "    if word not in stopwords:\n",
    "        filtered_sentence = filtered_sentence + word + ' '\n",
    "        \n",
    "sentences.append(filtered_sentence)\n",
    "print(sentences)"
   ]
  },
  {
   "cell_type": "code",
   "execution_count": 40,
   "id": "a57849ba",
   "metadata": {},
   "outputs": [
    {
     "name": "stdout",
     "output_type": "stream",
     "text": [
      "!\"#$%&'()*+,-./:;<=>?@[\\]^_`{|}~\n"
     ]
    }
   ],
   "source": [
    "print(string.punctuation)"
   ]
  },
  {
   "cell_type": "code",
   "execution_count": 50,
   "id": "3e8c4389",
   "metadata": {},
   "outputs": [
    {
     "data": {
      "text/plain": [
       "'zyxxxxxxxx'"
      ]
     },
     "execution_count": 50,
     "metadata": {},
     "output_type": "execute_result"
    }
   ],
   "source": [
    "table = str.maketrans('xyz', 'zyx', string.punctuation)\n",
    "'xyzzzzzzzz....'.translate(table)"
   ]
  },
  {
   "cell_type": "code",
   "execution_count": null,
   "id": "a656fcc8",
   "metadata": {},
   "outputs": [],
   "source": []
  }
 ],
 "metadata": {
  "kernelspec": {
   "display_name": "Python 3",
   "language": "python",
   "name": "python3"
  },
  "language_info": {
   "codemirror_mode": {
    "name": "ipython",
    "version": 3
   },
   "file_extension": ".py",
   "mimetype": "text/x-python",
   "name": "python",
   "nbconvert_exporter": "python",
   "pygments_lexer": "ipython3",
   "version": "3.8.8"
  }
 },
 "nbformat": 4,
 "nbformat_minor": 5
}
